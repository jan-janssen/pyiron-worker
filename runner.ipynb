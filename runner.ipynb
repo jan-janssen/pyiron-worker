{
 "cells": [
  {
   "cell_type": "code",
   "execution_count": null,
   "id": "a2194897",
   "metadata": {},
   "outputs": [],
   "source": [
    "from pyiron import Project"
   ]
  },
  {
   "cell_type": "code",
   "execution_count": null,
   "id": "273b60c9",
   "metadata": {},
   "outputs": [],
   "source": [
    "pr = Project(\"submit\")"
   ]
  },
  {
   "cell_type": "code",
   "execution_count": null,
   "id": "dc440f76",
   "metadata": {},
   "outputs": [],
   "source": [
    "active_cores = 0\n",
    "number_of_cores = 2"
   ]
  },
  {
   "cell_type": "code",
   "execution_count": null,
   "id": "184d0e27",
   "metadata": {},
   "outputs": [],
   "source": [
    "job_dict = {}\n",
    "job_next_lst = []\n",
    "while True:\n",
    "    continue_check = True\n",
    "    if len(job_next_lst) == 0:\n",
    "        df = pr.job_table()\n",
    "        job_next_lst = df[\n",
    "            (df[\"status\"] == \"submitted\") & \n",
    "            (df[\"hamilton\"] == \"Lammps\")\n",
    "        ].id.values\n",
    "    for i, job_id in enumerate(job_next_lst):\n",
    "        if job_id not in job_dict:\n",
    "            job = pr.load(job_id)\n",
    "            job.status.created = True \n",
    "            job.server.run_mode.thread = True\n",
    "            job_cores = job.server.cores\n",
    "            active_cores += job_cores\n",
    "            job.run()\n",
    "            job_dict[job_id] = [job_cores, job._process]\n",
    "        if active_cores == number_of_cores:\n",
    "            job_next_lst = job_next_lst[i+1:]\n",
    "            break\n",
    "\n",
    "    while continue_check:\n",
    "        finhshed_jobs = []\n",
    "        for k, [c, p] in job_dict.items():\n",
    "            if not p.is_alive(): \n",
    "                finhshed_jobs.append(k)\n",
    "                active_cores -= c\n",
    "                continue_check = False\n",
    "        for k in finhshed_jobs:\n",
    "            del job_dict[k]"
   ]
  },
  {
   "cell_type": "code",
   "execution_count": null,
   "id": "bf4ccf8c",
   "metadata": {},
   "outputs": [],
   "source": []
  }
 ],
 "metadata": {
  "kernelspec": {
   "display_name": "Python 3 (ipykernel)",
   "language": "python",
   "name": "python3"
  },
  "language_info": {
   "codemirror_mode": {
    "name": "ipython",
    "version": 3
   },
   "file_extension": ".py",
   "mimetype": "text/x-python",
   "name": "python",
   "nbconvert_exporter": "python",
   "pygments_lexer": "ipython3",
   "version": "3.9.7"
  }
 },
 "nbformat": 4,
 "nbformat_minor": 5
}
